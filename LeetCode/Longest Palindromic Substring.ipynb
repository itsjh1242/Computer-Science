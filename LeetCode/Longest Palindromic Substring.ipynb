{
 "cells": [
  {
   "cell_type": "markdown",
   "metadata": {},
   "source": [
    "![](./images/Longest%20Palindromic%20Substring.png)"
   ]
  },
  {
   "cell_type": "code",
   "execution_count": 2,
   "metadata": {},
   "outputs": [],
   "source": [
    "class Solution:\n",
    "    def longestPalindrome(self, s: str) -> str:\n",
    "        if len(s) == 1: return s\n",
    "        result = \"\"\n",
    "        for i in range(len(s)):\n",
    "            for j in range(len(s) - 1):\n",
    "                string = s[i : len(s) - j]\n",
    "                if string[0] == string[-1] and self.isPalindrome(string):\n",
    "                    if len(string) > len(result):\n",
    "                        result = string\n",
    "                    break\n",
    "        return result\n",
    "    \n",
    "    def isPalindrome(self, s: str) -> bool:\n",
    "        for i in range(len(s) // 2):\n",
    "            if s[i] != s[-(i + 1)]:\n",
    "                return False\n",
    "        return True"
   ]
  },
  {
   "cell_type": "code",
   "execution_count": 3,
   "metadata": {},
   "outputs": [
    {
     "name": "stdout",
     "output_type": "stream",
     "text": [
      "bab\n"
     ]
    }
   ],
   "source": [
    "s = Solution();\n",
    "TC = [\"babad\"]\n",
    "for _ in TC:\n",
    "    print(s.longestPalindrome(_))"
   ]
  }
 ],
 "metadata": {
  "kernelspec": {
   "display_name": "Python 3",
   "language": "python",
   "name": "python3"
  },
  "language_info": {
   "codemirror_mode": {
    "name": "ipython",
    "version": 3
   },
   "file_extension": ".py",
   "mimetype": "text/x-python",
   "name": "python",
   "nbconvert_exporter": "python",
   "pygments_lexer": "ipython3",
   "version": "3.10.5"
  }
 },
 "nbformat": 4,
 "nbformat_minor": 2
}
