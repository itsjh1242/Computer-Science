{
 "cells": [
  {
   "cell_type": "markdown",
   "metadata": {},
   "source": [
    "![](./images/Zigzag%20Conversion2.png)\n",
    "![](./images/Zigzag%20Conversion.png)"
   ]
  },
  {
   "cell_type": "code",
   "execution_count": 42,
   "metadata": {},
   "outputs": [],
   "source": [
    "class Solution:\n",
    "    def convert(self, s: str, numRows: int) -> str:\n",
    "        arr = [[None for _ in range(len(s) // numRows)] for _ in range(numRows)]\n",
    "        \n",
    "        for idx, c in enumerate(s):\n",
    "            start = idx // numRows\n",
    "            end = idx % numRows\n",
    "            arr[end][start] = c\n",
    "        print(arr)\n",
    "\n",
    "        \n",
    "\n",
    "s = Solution()\n",
    "s.convert(\"PAYPALISHIRING\", 3)"
   ]
  }
 ],
 "metadata": {
  "kernelspec": {
   "display_name": "Python 3",
   "language": "python",
   "name": "python3"
  },
  "language_info": {
   "codemirror_mode": {
    "name": "ipython",
    "version": 3
   },
   "file_extension": ".py",
   "mimetype": "text/x-python",
   "name": "python",
   "nbconvert_exporter": "python",
   "pygments_lexer": "ipython3",
   "version": "3.10.5"
  }
 },
 "nbformat": 4,
 "nbformat_minor": 2
}
