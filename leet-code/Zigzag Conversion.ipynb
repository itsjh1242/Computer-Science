{
 "cells": [
  {
   "cell_type": "markdown",
   "metadata": {},
   "source": [
    "![](./images/Zigzag%20Conversion.png)\n",
    "![](./images/Zigzag%20Conversion2.png)"
   ]
  },
  {
   "cell_type": "markdown",
   "metadata": {},
   "source": [
    "col: len(s) // numRows + numRows\n",
    "\n",
    "PAYPALISHIRING\n",
    "\n",
    "0:3\n",
    "3\n",
    "4:7\n",
    "7\n",
    "8:11\n",
    "11\n",
    "12:15\n",
    "\n",
    "0, 1, 2, 3\n",
    "4\n",
    "5\n",
    "6, 7, 8, 9\n",
    "10\n",
    "11\n",
    "12, 13, 14, 15\n",
    "16\n",
    "17\n",
    "\n",
    "0:4\n",
    "4\n",
    "5\n",
    "6:10\n",
    "10\n",
    "11\n",
    "12:16\n",
    "16\n",
    "17\n",
    "\n",
    "0:2\n",
    "2:4\n",
    "\n",
    "PAYPALISHIRING\n",
    "\n",
    "P     H\n",
    "A   S I\n",
    "Y  I  R\n",
    "P L   I G\n",
    "A     N"
   ]
  },
  {
   "cell_type": "code",
   "execution_count": 65,
   "metadata": {},
   "outputs": [
    {
     "name": "stdout",
     "output_type": "stream",
     "text": [
      "['PAY', '?P?', 'ALI', '?S?', 'HIR', '?I?', 'NG']\n"
     ]
    },
    {
     "data": {
      "text/plain": [
       "'PAHNAPLSIIGYIR'"
      ]
     },
     "execution_count": 65,
     "metadata": {},
     "output_type": "execute_result"
    }
   ],
   "source": [
    "class Solution:\n",
    "    def convert(self, s: str, numRows: int) -> str:\n",
    "        result = \"\"\n",
    "        idx = 0\n",
    "        arr = []\n",
    "        while idx < len(s):\n",
    "            end = idx + numRows\n",
    "            arr.append(s[idx:end])\n",
    "            if numRows > 2:\n",
    "                for _ in range(numRows - 2):\n",
    "                    if end + _ >= len(s): break\n",
    "                    newArr = [\"?\" for _ in range(numRows)]\n",
    "                    newArr[numRows - 2 - _] = s[end + _]\n",
    "                    arr.append(\"\".join(newArr))\n",
    "                idx += numRows + (numRows - 2)\n",
    "            else:\n",
    "                idx += numRows\n",
    "        \n",
    "        for i in range(numRows):\n",
    "            for item in arr:\n",
    "                if i >= len(item): break\n",
    "                if item[i] != \"?\": result += item[i] \n",
    "        \n",
    "        return result\n",
    "        \n",
    "s = Solution()\n",
    "s.convert(\"PAYPALISHIRING\", 3)\n"
   ]
  }
 ],
 "metadata": {
  "kernelspec": {
   "display_name": "Python 3",
   "language": "python",
   "name": "python3"
  },
  "language_info": {
   "codemirror_mode": {
    "name": "ipython",
    "version": 3
   },
   "file_extension": ".py",
   "mimetype": "text/x-python",
   "name": "python",
   "nbconvert_exporter": "python",
   "pygments_lexer": "ipython3",
   "version": "3.10.5"
  }
 },
 "nbformat": 4,
 "nbformat_minor": 2
}
